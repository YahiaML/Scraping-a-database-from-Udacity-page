{
  "nbformat": 4,
  "nbformat_minor": 0,
  "metadata": {
    "colab": {
      "name": "Scraping-a-database-from-Udacity-page.ipynb",
      "provenance": [],
      "authorship_tag": "ABX9TyOacqDRQGpX9wVKGFcR1x2e",
      "include_colab_link": true
    },
    "kernelspec": {
      "name": "python3",
      "display_name": "Python 3"
    },
    "language_info": {
      "name": "python"
    }
  },
  "cells": [
    {
      "cell_type": "markdown",
      "metadata": {
        "id": "view-in-github",
        "colab_type": "text"
      },
      "source": [
        "<a href=\"https://colab.research.google.com/github/YahiaML/Scraping-a-database-from-Udacity-page/blob/main/Scraping_a_database_from_Udacity_page.ipynb\" target=\"_parent\"><img src=\"https://colab.research.google.com/assets/colab-badge.svg\" alt=\"Open In Colab\"/></a>"
      ]
    },
    {
      "cell_type": "markdown",
      "source": [
        "# Import libraries"
      ],
      "metadata": {
        "id": "dSGbvRtjzMUe"
      }
    },
    {
      "cell_type": "code",
      "source": [
        "from bs4 import BeautifulSoup\n",
        "import requests\n",
        "import sqlite3\n",
        "import re \n",
        "import pandas as pd"
      ],
      "metadata": {
        "id": "N5R4p7i7ggyw"
      },
      "execution_count": 110,
      "outputs": []
    },
    {
      "cell_type": "markdown",
      "source": [
        "# Scraping the database bage"
      ],
      "metadata": {
        "id": "nZloz0BczVA9"
      }
    },
    {
      "cell_type": "code",
      "execution_count": 100,
      "metadata": {
        "id": "Md4fzGKhgCjx"
      },
      "outputs": [],
      "source": [
        "url  = \"https://video.udacity-data.com/topher/2020/May/5eb5533b_parch-and-posey/parch-and-posey.sql\"\n",
        "response = requests.get(url)\n",
        "data = response.text"
      ]
    },
    {
      "cell_type": "code",
      "source": [
        "Block_of_lines = BeautifulSoup(data,\"html.parser\")"
      ],
      "metadata": {
        "id": "K7zdysc5gm74"
      },
      "execution_count": 101,
      "outputs": []
    },
    {
      "cell_type": "code",
      "source": [
        "# I find that the lines are treated as 1 block of lines, so I needed to split them\n",
        "lines = re.split(\";\", str(Block_of_lines)) "
      ],
      "metadata": {
        "id": "euuLQIFOorqz"
      },
      "execution_count": 102,
      "outputs": []
    },
    {
      "cell_type": "markdown",
      "source": [
        "# **Gathering the database in .db format (Attempt #1)**"
      ],
      "metadata": {
        "id": "RHNK4eHg0AHc"
      }
    },
    {
      "cell_type": "code",
      "source": [
        "#creating an empty data base neamed p_and_p_db\n",
        "p_and_p_db = sqlite3.connect('p_and_p_db.db')"
      ],
      "metadata": {
        "id": "UmJsTlFigsud"
      },
      "execution_count": 103,
      "outputs": []
    },
    {
      "cell_type": "code",
      "source": [
        "for line in lines:\n",
        "    p_and_p_db.execute(line + \";\") "
      ],
      "metadata": {
        "colab": {
          "base_uri": "https://localhost:8080/",
          "height": 183
        },
        "id": "ms0t23awz92G",
        "outputId": "af4e8b18-4f19-4ae1-c186-0b7533b377ba"
      },
      "execution_count": 104,
      "outputs": [
        {
          "output_type": "error",
          "ename": "OperationalError",
          "evalue": "ignored",
          "traceback": [
            "\u001b[0;31m---------------------------------------------------------------------------\u001b[0m",
            "\u001b[0;31mOperationalError\u001b[0m                          Traceback (most recent call last)",
            "\u001b[0;32m<ipython-input-104-41d29b3ce29d>\u001b[0m in \u001b[0;36m<module>\u001b[0;34m()\u001b[0m\n\u001b[1;32m      1\u001b[0m \u001b[0;32mfor\u001b[0m \u001b[0mline\u001b[0m \u001b[0;32min\u001b[0m \u001b[0mlines\u001b[0m\u001b[0;34m:\u001b[0m\u001b[0;34m\u001b[0m\u001b[0;34m\u001b[0m\u001b[0m\n\u001b[0;32m----> 2\u001b[0;31m     \u001b[0mp_and_p_db\u001b[0m\u001b[0;34m.\u001b[0m\u001b[0mexecute\u001b[0m\u001b[0;34m(\u001b[0m\u001b[0mline\u001b[0m \u001b[0;34m+\u001b[0m \u001b[0;34m\";\"\u001b[0m\u001b[0;34m)\u001b[0m\u001b[0;34m\u001b[0m\u001b[0;34m\u001b[0m\u001b[0m\n\u001b[0m",
            "\u001b[0;31mOperationalError\u001b[0m: unrecognized token: \"'AT&amp;\""
          ]
        }
      ]
    },
    {
      "cell_type": "markdown",
      "source": [
        "I found that this code can not gather the data base due to unknown error"
      ],
      "metadata": {
        "id": "IK_JJNOz1UAM"
      }
    },
    {
      "cell_type": "markdown",
      "source": [
        "# **Gathering the database in .db format (Attempt #2)**"
      ],
      "metadata": {
        "id": "KObNt43U1XlC"
      }
    },
    {
      "cell_type": "markdown",
      "source": [
        "Let us make a simple try and except"
      ],
      "metadata": {
        "id": "W7ujpaGG1gRp"
      }
    },
    {
      "cell_type": "code",
      "source": [
        "for line in lines:\n",
        "  try:\n",
        "    p_and_p_db.execute(line + \";\")\n",
        "  except Exception as e:\n",
        "    print(e)\n",
        "\n",
        "# This code did gather the data base but it has missing values"
      ],
      "metadata": {
        "colab": {
          "base_uri": "https://localhost:8080/"
        },
        "id": "Q40o1-AGgnmN",
        "outputId": "6e7de47a-59d5-4142-f3f3-9b24e196033f"
      },
      "execution_count": 105,
      "outputs": [
        {
          "output_type": "stream",
          "name": "stdout",
          "text": [
            "cannot start a transaction within a transaction\n",
            "table web_events already exists\n",
            "table sales_reps already exists\n",
            "table region already exists\n",
            "table orders already exists\n",
            "table accounts already exists\n",
            "unrecognized token: \"'AT&amp;\"\n",
            "near \"T\": syntax error\n",
            "unrecognized token: \"'Procter &amp;\"\n",
            "near \"Gamble\": syntax error\n",
            "unrecognized token: \"'Johnson &amp;\"\n",
            "near \"Johnson\": syntax error\n",
            "unrecognized token: \"'PG&amp;\"\n",
            "near \"E\": syntax error\n",
            "unrecognized token: \"'Goodyear Tire &amp;\"\n",
            "near \"Rubber\": syntax error\n",
            "unrecognized token: \"'Marsh &amp;\"\n",
            "near \"McLennan\": syntax error\n",
            "unrecognized token: \"'Bed Bath &amp;\"\n",
            "near \"Beyond\": syntax error\n",
            "unrecognized token: \"'R.R. Donnelley &amp;\"\n",
            "near \"Sons\": syntax error\n",
            "unrecognized token: \"'Stanley Black &amp;\"\n",
            "near \"Decker\": syntax error\n",
            "unrecognized token: \"'BB&amp;\"\n",
            "near \"T\": syntax error\n",
            "unrecognized token: \"'Air Products &amp;\"\n",
            "near \"Chemicals\": syntax error\n",
            "unrecognized token: \"'Owens &amp;\"\n",
            "near \"Minor\": syntax error\n",
            "unrecognized token: \"'Reliance Steel &amp;\"\n",
            "near \"Aluminum\": syntax error\n"
          ]
        }
      ]
    },
    {
      "cell_type": "markdown",
      "source": [
        "This code did gather the data base but it has missing values"
      ],
      "metadata": {
        "id": "GXRKvlt81p2J"
      }
    },
    {
      "cell_type": "markdown",
      "source": [
        "# **Gathering the database in .db format (Attempt #3)**"
      ],
      "metadata": {
        "id": "-UXuNMEn2zus"
      }
    },
    {
      "cell_type": "markdown",
      "source": [
        "Let us see what these errors really are"
      ],
      "metadata": {
        "id": "fnG0BRra26Rk"
      }
    },
    {
      "cell_type": "code",
      "source": [
        "parch_and_posey_1 = sqlite3.connect('parch_and_posey_1.db')"
      ],
      "metadata": {
        "id": "kBiZS2t5swPJ"
      },
      "execution_count": 106,
      "outputs": []
    },
    {
      "cell_type": "code",
      "source": [
        "for line in lines:\n",
        "  try:\n",
        "    parch_and_posey_1.execute(line + \";\")\n",
        "  except Exception as e:\n",
        "    print(\"EROR\", e)\n",
        "    print()\n",
        "    print(\"LINE:\", line)\n",
        "    print()\n",
        "    print()"
      ],
      "metadata": {
        "colab": {
          "base_uri": "https://localhost:8080/"
        },
        "id": "uIftZ8gHsj1z",
        "outputId": "b3c40a5e-6df9-4034-83f3-3bf5da4d6499"
      },
      "execution_count": 107,
      "outputs": [
        {
          "output_type": "stream",
          "name": "stdout",
          "text": [
            "EROR unrecognized token: \"'AT&amp;\"\n",
            "\n",
            "LINE: \n",
            "INSERT INTO accounts VALUES (1091,'AT&amp\n",
            "\n",
            "\n",
            "EROR near \"T\": syntax error\n",
            "\n",
            "LINE: T','www.att.com',42.4974627,-74.90271225,'Jamel Mosqueda',321590)\n",
            "\n",
            "\n",
            "EROR unrecognized token: \"'Procter &amp;\"\n",
            "\n",
            "LINE: \n",
            "INSERT INTO accounts VALUES (1331,'Procter &amp\n",
            "\n",
            "\n",
            "EROR near \"Gamble\": syntax error\n",
            "\n",
            "LINE:  Gamble','www.pg.com',41.33403574,-74.18997513,'Cordia Winters',321620)\n",
            "\n",
            "\n",
            "EROR unrecognized token: \"'Johnson &amp;\"\n",
            "\n",
            "LINE: \n",
            "INSERT INTO accounts VALUES (1381,'Johnson &amp\n",
            "\n",
            "\n",
            "EROR near \"Johnson\": syntax error\n",
            "\n",
            "LINE:  Johnson','www.jnj.com',40.6266526,-75.1543044,'Genevieve Fenton',321670)\n",
            "\n",
            "\n",
            "EROR unrecognized token: \"'PG&amp;\"\n",
            "\n",
            "LINE: \n",
            "INSERT INTO accounts VALUES (2651,'PG&amp\n",
            "\n",
            "\n",
            "EROR near \"E\": syntax error\n",
            "\n",
            "LINE: E Corp.','www.pge.com',33.81262481,-84.3145316,'Whitney Koga',321810)\n",
            "\n",
            "\n",
            "EROR unrecognized token: \"'Goodyear Tire &amp;\"\n",
            "\n",
            "LINE: \n",
            "INSERT INTO accounts VALUES (2681,'Goodyear Tire &amp\n",
            "\n",
            "\n",
            "EROR near \"Rubber\": syntax error\n",
            "\n",
            "LINE:  Rubber','www.goodyear.com',33.74138501,-84.51340635,'Jodee Indelicato',321840)\n",
            "\n",
            "\n",
            "EROR unrecognized token: \"'Marsh &amp;\"\n",
            "\n",
            "LINE: \n",
            "INSERT INTO accounts VALUES (3211,'Marsh &amp\n",
            "\n",
            "\n",
            "EROR near \"McLennan\": syntax error\n",
            "\n",
            "LINE:  McLennan','www.mmc.com',30.42947075,-84.2760596,'Shantae Leone',321870)\n",
            "\n",
            "\n",
            "EROR unrecognized token: \"'Bed Bath &amp;\"\n",
            "\n",
            "LINE: \n",
            "INSERT INTO accounts VALUES (3371,'Bed Bath &amp\n",
            "\n",
            "\n",
            "EROR near \"Beyond\": syntax error\n",
            "\n",
            "LINE:  Beyond','www.bedbathandbeyond.com',35.09802595,-85.99168992,'Audria Witter',321850)\n",
            "\n",
            "\n",
            "EROR unrecognized token: \"'R.R. Donnelley &amp;\"\n",
            "\n",
            "LINE: \n",
            "INSERT INTO accounts VALUES (3541,'R.R. Donnelley &amp\n",
            "\n",
            "\n",
            "EROR near \"Sons\": syntax error\n",
            "\n",
            "LINE:  Sons','www.rrdonnelley.com',34.05634691,-118.24395958,'Vania Warthen',321940)\n",
            "\n",
            "\n",
            "EROR unrecognized token: \"'Stanley Black &amp;\"\n",
            "\n",
            "LINE: \n",
            "INSERT INTO accounts VALUES (3551,'Stanley Black &amp\n",
            "\n",
            "\n",
            "EROR near \"Decker\": syntax error\n",
            "\n",
            "LINE:  Decker','www.stanleyblackanddecker.com',34.05774002,-118.24377692,'Davida Woldt',321950)\n",
            "\n",
            "\n",
            "EROR unrecognized token: \"'BB&amp;\"\n",
            "\n",
            "LINE: \n",
            "INSERT INTO accounts VALUES (3721,'BB&amp\n",
            "\n",
            "\n",
            "EROR near \"T\": syntax error\n",
            "\n",
            "LINE: T Corp.','www.bbt.com',34.05303225,-118.2363366,'Scot Feagin',321920)\n",
            "\n",
            "\n",
            "EROR unrecognized token: \"'Air Products &amp;\"\n",
            "\n",
            "LINE: \n",
            "INSERT INTO accounts VALUES (3871,'Air Products &amp\n",
            "\n",
            "\n",
            "EROR near \"Chemicals\": syntax error\n",
            "\n",
            "LINE:  Chemicals','www.airproducts.com',34.05863026,-118.25017603,'Delphia Jamerson',321970)\n",
            "\n",
            "\n",
            "EROR unrecognized token: \"'Owens &amp;\"\n",
            "\n",
            "LINE: \n",
            "INSERT INTO accounts VALUES (3901,'Owens &amp\n",
            "\n",
            "\n",
            "EROR near \"Minor\": syntax error\n",
            "\n",
            "LINE:  Minor','www.owens-minor.com',34.06099261,-118.24172395,'Emogene Howarth',321900)\n",
            "\n",
            "\n",
            "EROR unrecognized token: \"'Reliance Steel &amp;\"\n",
            "\n",
            "LINE: \n",
            "INSERT INTO accounts VALUES (4021,'Reliance Steel &amp\n",
            "\n",
            "\n",
            "EROR near \"Aluminum\": syntax error\n",
            "\n",
            "LINE:  Aluminum','www.rsac.com',38.66020072,-121.71039693,'Terrance Kimzey',321920)\n",
            "\n",
            "\n"
          ]
        }
      ]
    },
    {
      "cell_type": "markdown",
      "source": [
        "After checking https://video.udacity-data.com/topher/2020/May/5eb5533b_parch-and-posey/parch-and-posey.sql and searching for the corrabted lines, I found that:\n",
        "\n",
        "1. This error occured due to unknown reason in splitting lines after & sign in names in account table.\n",
        "\n",
        "2. The first part of the line rises an error \"unrecognized token\".\n",
        "\n",
        "3. The second part of the line rises an error \"syntax error\".\n",
        "\n",
        "So, what I'm going to do is just join the two parts again in one line and run the code normally"
      ],
      "metadata": {
        "id": "cYEyNhWA3Bf_"
      }
    },
    {
      "cell_type": "code",
      "source": [
        "parch_and_posey = sqlite3.connect('parch_and_posey.db')\n",
        "\n",
        "text = \"\"\n",
        "for line in lines:\n",
        "  try:\n",
        "    parch_and_posey.execute(line + \";\")\n",
        "  except Exception as e:\n",
        "    error_msj = str(e)\n",
        "    if \"unrecognized token\" in error_msj:\n",
        "      text += line\n",
        "    elif \"syntax error\" in error_msj:\n",
        "      text += line\n",
        "      parch_and_posey.execute(text + \";\")\n",
        "      text = \"\"\n",
        "\n",
        "    else:\n",
        "      print(\"EROR\", e)\n",
        "      print()\n",
        "      print(\"LINE:\", line)\n",
        "      print()"
      ],
      "metadata": {
        "id": "o3zOyrQhwQdk"
      },
      "execution_count": 108,
      "outputs": []
    },
    {
      "cell_type": "markdown",
      "source": [
        "No error, HOORAY"
      ],
      "metadata": {
        "id": "DnI6Fx7v4XI9"
      }
    },
    {
      "cell_type": "markdown",
      "source": [
        "#**Now let's try the database**"
      ],
      "metadata": {
        "id": "otq-xlvP4mEk"
      }
    },
    {
      "cell_type": "code",
      "source": [
        "# print output as rows\n",
        "\"\"\"\n",
        "cursor = parch_and_posey.execute(''' SELECT *                            \n",
        "                          FROM accounts \n",
        "                          ''')\n",
        "\n",
        "for row in cursor:\n",
        "  print(row)    \"\"\""
      ],
      "metadata": {
        "id": "5rTO0n5tjE7N"
      },
      "execution_count": null,
      "outputs": []
    },
    {
      "cell_type": "code",
      "source": [
        "output = parch_and_posey.execute(''' SELECT *                            \n",
        "                          FROM accounts \n",
        "                          ''')\n",
        "\n",
        "# print output as a table (data frame)\n",
        "data = []\n",
        "for row in output:\n",
        "  data.append(list(row))\n",
        "df= pd.DataFrame(data,columns=[\"Id\",\"Name\", \"website\", \"lat\", \"long \", \"primary_poc\", \"sales_rep_id \"])  # inset columns names that you want\n",
        "df"
      ],
      "metadata": {
        "colab": {
          "base_uri": "https://localhost:8080/",
          "height": 424
        },
        "id": "On-N2EwA2aSN",
        "outputId": "66170930-a15f-473a-eca2-af1e85f660c6"
      },
      "execution_count": 111,
      "outputs": [
        {
          "output_type": "execute_result",
          "data": {
            "text/plain": [
              "       Id                Name                    website        lat  \\\n",
              "0    1001             Walmart            www.walmart.com  40.238496   \n",
              "1    1011         Exxon Mobil         www.exxonmobil.com  41.169156   \n",
              "2    1021               Apple              www.apple.com  42.290495   \n",
              "3    1031  Berkshire Hathaway  www.berkshirehathaway.com  40.949021   \n",
              "4    1041            McKesson           www.mckesson.com  42.217093   \n",
              "..    ...                 ...                        ...        ...   \n",
              "346  4461                 KKR                www.kkr.com  45.545353   \n",
              "347  4471               Oneok              www.oneok.com  45.513513   \n",
              "348  4481      Newmont Mining            www.newmont.com  45.494117   \n",
              "349  4491                 PPL             www.pplweb.com  45.491720   \n",
              "350  4501         SpartanNash        www.spartannash.com  45.555651   \n",
              "\n",
              "          long        primary_poc  sales_rep_id   \n",
              "0    -75.103297       Tamara Tuma         321500  \n",
              "1    -73.849374      Sung Shields         321510  \n",
              "2    -76.084009        Jodee Lupo         321520  \n",
              "3    -75.763898    Serafina Banda         321530  \n",
              "4    -75.284998    Angeles Crusoe         321540  \n",
              "..          ...               ...            ...  \n",
              "346 -122.655247       Buffy Azure         321970  \n",
              "347 -122.681500   Esta Engelhardt         321960  \n",
              "348 -122.669460  Khadijah Riemann         321970  \n",
              "349 -122.671880   Deanne Hertlein         321960  \n",
              "350 -122.657145      Jewell Likes         321970  \n",
              "\n",
              "[351 rows x 7 columns]"
            ],
            "text/html": [
              "\n",
              "  <div id=\"df-5da41732-136b-41e1-943d-88eb54c28bbf\">\n",
              "    <div class=\"colab-df-container\">\n",
              "      <div>\n",
              "<style scoped>\n",
              "    .dataframe tbody tr th:only-of-type {\n",
              "        vertical-align: middle;\n",
              "    }\n",
              "\n",
              "    .dataframe tbody tr th {\n",
              "        vertical-align: top;\n",
              "    }\n",
              "\n",
              "    .dataframe thead th {\n",
              "        text-align: right;\n",
              "    }\n",
              "</style>\n",
              "<table border=\"1\" class=\"dataframe\">\n",
              "  <thead>\n",
              "    <tr style=\"text-align: right;\">\n",
              "      <th></th>\n",
              "      <th>Id</th>\n",
              "      <th>Name</th>\n",
              "      <th>website</th>\n",
              "      <th>lat</th>\n",
              "      <th>long</th>\n",
              "      <th>primary_poc</th>\n",
              "      <th>sales_rep_id</th>\n",
              "    </tr>\n",
              "  </thead>\n",
              "  <tbody>\n",
              "    <tr>\n",
              "      <th>0</th>\n",
              "      <td>1001</td>\n",
              "      <td>Walmart</td>\n",
              "      <td>www.walmart.com</td>\n",
              "      <td>40.238496</td>\n",
              "      <td>-75.103297</td>\n",
              "      <td>Tamara Tuma</td>\n",
              "      <td>321500</td>\n",
              "    </tr>\n",
              "    <tr>\n",
              "      <th>1</th>\n",
              "      <td>1011</td>\n",
              "      <td>Exxon Mobil</td>\n",
              "      <td>www.exxonmobil.com</td>\n",
              "      <td>41.169156</td>\n",
              "      <td>-73.849374</td>\n",
              "      <td>Sung Shields</td>\n",
              "      <td>321510</td>\n",
              "    </tr>\n",
              "    <tr>\n",
              "      <th>2</th>\n",
              "      <td>1021</td>\n",
              "      <td>Apple</td>\n",
              "      <td>www.apple.com</td>\n",
              "      <td>42.290495</td>\n",
              "      <td>-76.084009</td>\n",
              "      <td>Jodee Lupo</td>\n",
              "      <td>321520</td>\n",
              "    </tr>\n",
              "    <tr>\n",
              "      <th>3</th>\n",
              "      <td>1031</td>\n",
              "      <td>Berkshire Hathaway</td>\n",
              "      <td>www.berkshirehathaway.com</td>\n",
              "      <td>40.949021</td>\n",
              "      <td>-75.763898</td>\n",
              "      <td>Serafina Banda</td>\n",
              "      <td>321530</td>\n",
              "    </tr>\n",
              "    <tr>\n",
              "      <th>4</th>\n",
              "      <td>1041</td>\n",
              "      <td>McKesson</td>\n",
              "      <td>www.mckesson.com</td>\n",
              "      <td>42.217093</td>\n",
              "      <td>-75.284998</td>\n",
              "      <td>Angeles Crusoe</td>\n",
              "      <td>321540</td>\n",
              "    </tr>\n",
              "    <tr>\n",
              "      <th>...</th>\n",
              "      <td>...</td>\n",
              "      <td>...</td>\n",
              "      <td>...</td>\n",
              "      <td>...</td>\n",
              "      <td>...</td>\n",
              "      <td>...</td>\n",
              "      <td>...</td>\n",
              "    </tr>\n",
              "    <tr>\n",
              "      <th>346</th>\n",
              "      <td>4461</td>\n",
              "      <td>KKR</td>\n",
              "      <td>www.kkr.com</td>\n",
              "      <td>45.545353</td>\n",
              "      <td>-122.655247</td>\n",
              "      <td>Buffy Azure</td>\n",
              "      <td>321970</td>\n",
              "    </tr>\n",
              "    <tr>\n",
              "      <th>347</th>\n",
              "      <td>4471</td>\n",
              "      <td>Oneok</td>\n",
              "      <td>www.oneok.com</td>\n",
              "      <td>45.513513</td>\n",
              "      <td>-122.681500</td>\n",
              "      <td>Esta Engelhardt</td>\n",
              "      <td>321960</td>\n",
              "    </tr>\n",
              "    <tr>\n",
              "      <th>348</th>\n",
              "      <td>4481</td>\n",
              "      <td>Newmont Mining</td>\n",
              "      <td>www.newmont.com</td>\n",
              "      <td>45.494117</td>\n",
              "      <td>-122.669460</td>\n",
              "      <td>Khadijah Riemann</td>\n",
              "      <td>321970</td>\n",
              "    </tr>\n",
              "    <tr>\n",
              "      <th>349</th>\n",
              "      <td>4491</td>\n",
              "      <td>PPL</td>\n",
              "      <td>www.pplweb.com</td>\n",
              "      <td>45.491720</td>\n",
              "      <td>-122.671880</td>\n",
              "      <td>Deanne Hertlein</td>\n",
              "      <td>321960</td>\n",
              "    </tr>\n",
              "    <tr>\n",
              "      <th>350</th>\n",
              "      <td>4501</td>\n",
              "      <td>SpartanNash</td>\n",
              "      <td>www.spartannash.com</td>\n",
              "      <td>45.555651</td>\n",
              "      <td>-122.657145</td>\n",
              "      <td>Jewell Likes</td>\n",
              "      <td>321970</td>\n",
              "    </tr>\n",
              "  </tbody>\n",
              "</table>\n",
              "<p>351 rows × 7 columns</p>\n",
              "</div>\n",
              "      <button class=\"colab-df-convert\" onclick=\"convertToInteractive('df-5da41732-136b-41e1-943d-88eb54c28bbf')\"\n",
              "              title=\"Convert this dataframe to an interactive table.\"\n",
              "              style=\"display:none;\">\n",
              "        \n",
              "  <svg xmlns=\"http://www.w3.org/2000/svg\" height=\"24px\"viewBox=\"0 0 24 24\"\n",
              "       width=\"24px\">\n",
              "    <path d=\"M0 0h24v24H0V0z\" fill=\"none\"/>\n",
              "    <path d=\"M18.56 5.44l.94 2.06.94-2.06 2.06-.94-2.06-.94-.94-2.06-.94 2.06-2.06.94zm-11 1L8.5 8.5l.94-2.06 2.06-.94-2.06-.94L8.5 2.5l-.94 2.06-2.06.94zm10 10l.94 2.06.94-2.06 2.06-.94-2.06-.94-.94-2.06-.94 2.06-2.06.94z\"/><path d=\"M17.41 7.96l-1.37-1.37c-.4-.4-.92-.59-1.43-.59-.52 0-1.04.2-1.43.59L10.3 9.45l-7.72 7.72c-.78.78-.78 2.05 0 2.83L4 21.41c.39.39.9.59 1.41.59.51 0 1.02-.2 1.41-.59l7.78-7.78 2.81-2.81c.8-.78.8-2.07 0-2.86zM5.41 20L4 18.59l7.72-7.72 1.47 1.35L5.41 20z\"/>\n",
              "  </svg>\n",
              "      </button>\n",
              "      \n",
              "  <style>\n",
              "    .colab-df-container {\n",
              "      display:flex;\n",
              "      flex-wrap:wrap;\n",
              "      gap: 12px;\n",
              "    }\n",
              "\n",
              "    .colab-df-convert {\n",
              "      background-color: #E8F0FE;\n",
              "      border: none;\n",
              "      border-radius: 50%;\n",
              "      cursor: pointer;\n",
              "      display: none;\n",
              "      fill: #1967D2;\n",
              "      height: 32px;\n",
              "      padding: 0 0 0 0;\n",
              "      width: 32px;\n",
              "    }\n",
              "\n",
              "    .colab-df-convert:hover {\n",
              "      background-color: #E2EBFA;\n",
              "      box-shadow: 0px 1px 2px rgba(60, 64, 67, 0.3), 0px 1px 3px 1px rgba(60, 64, 67, 0.15);\n",
              "      fill: #174EA6;\n",
              "    }\n",
              "\n",
              "    [theme=dark] .colab-df-convert {\n",
              "      background-color: #3B4455;\n",
              "      fill: #D2E3FC;\n",
              "    }\n",
              "\n",
              "    [theme=dark] .colab-df-convert:hover {\n",
              "      background-color: #434B5C;\n",
              "      box-shadow: 0px 1px 3px 1px rgba(0, 0, 0, 0.15);\n",
              "      filter: drop-shadow(0px 1px 2px rgba(0, 0, 0, 0.3));\n",
              "      fill: #FFFFFF;\n",
              "    }\n",
              "  </style>\n",
              "\n",
              "      <script>\n",
              "        const buttonEl =\n",
              "          document.querySelector('#df-5da41732-136b-41e1-943d-88eb54c28bbf button.colab-df-convert');\n",
              "        buttonEl.style.display =\n",
              "          google.colab.kernel.accessAllowed ? 'block' : 'none';\n",
              "\n",
              "        async function convertToInteractive(key) {\n",
              "          const element = document.querySelector('#df-5da41732-136b-41e1-943d-88eb54c28bbf');\n",
              "          const dataTable =\n",
              "            await google.colab.kernel.invokeFunction('convertToInteractive',\n",
              "                                                     [key], {});\n",
              "          if (!dataTable) return;\n",
              "\n",
              "          const docLinkHtml = 'Like what you see? Visit the ' +\n",
              "            '<a target=\"_blank\" href=https://colab.research.google.com/notebooks/data_table.ipynb>data table notebook</a>'\n",
              "            + ' to learn more about interactive tables.';\n",
              "          element.innerHTML = '';\n",
              "          dataTable['output_type'] = 'display_data';\n",
              "          await google.colab.output.renderOutput(dataTable, element);\n",
              "          const docLink = document.createElement('div');\n",
              "          docLink.innerHTML = docLinkHtml;\n",
              "          element.appendChild(docLink);\n",
              "        }\n",
              "      </script>\n",
              "    </div>\n",
              "  </div>\n",
              "  "
            ]
          },
          "metadata": {},
          "execution_count": 111
        }
      ]
    }
  ]
}